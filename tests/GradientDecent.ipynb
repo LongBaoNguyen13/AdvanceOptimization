{
 "cells": [
  {
   "cell_type": "code",
   "execution_count": 1,
   "id": "21a0976e-75f1-4778-b493-395b08939d51",
   "metadata": {},
   "outputs": [],
   "source": [
    "# Import packages\n",
    "from __future__ import division, print_function, unicode_literals\n",
    "import math\n",
    "import numpy as np\n",
    "import matplotlib.pyplot as plt"
   ]
  },
  {
   "cell_type": "code",
   "execution_count": 4,
   "id": "6d1a98df-033e-4850-8372-78e602b673b5",
   "metadata": {},
   "outputs": [],
   "source": [
    "# gradient decent function\n",
    "def grad(x):\n",
    "    return 2*x + 5*np.cos(x)\n",
    "\n",
    "# funtion to calculate value of function\n",
    "def cost(x):\n",
    "    return x**2 + 5*np.sin(x)\n",
    "\n",
    "# gradient decent\n",
    "def myGD1(eta, x0):\n",
    "    \"\"\"\n",
    "    eta: learning rate\n",
    "    x0: starting point\n",
    "    return\n",
    "    \"\"\"\n",
    "    x = [x0]\n",
    "    for it in range(100):\n",
    "        x_new = x[-1] - eta*grad(x[-1])\n",
    "        if abs(grad(x_new)) < 1e-3:\n",
    "            break\n",
    "        x.append(x_new)\n",
    "    return (x, it)"
   ]
  },
  {
   "cell_type": "code",
   "execution_count": 6,
   "id": "a09cd326-e920-4f3b-8a13-0c6eb7686145",
   "metadata": {},
   "outputs": [
    {
     "name": "stdout",
     "output_type": "stream",
     "text": [
      "Solution x1 = -1.110812, cost = -3.246394, obtained after 14 iterations\n",
      "Solution x2 = -1.110311, cost = -3.246394, obtained after 35 iterations\n"
     ]
    }
   ],
   "source": [
    "(x1, it1) = myGD1(.1, -10)\n",
    "(x2, it2) = myGD1(.1, 20)\n",
    "print('Solution x1 = %f, cost = %f, obtained after %d iterations'%(x1[-1], cost(x1[-1]), it1))\n",
    "print('Solution x2 = %f, cost = %f, obtained after %d iterations'%(x2[-1], cost(x2[-1]), it2))"
   ]
  },
  {
   "cell_type": "markdown",
   "id": "ac111f78-82fd-436e-9aa4-b0e42417c230",
   "metadata": {},
   "source": [
    "### Linear Regression"
   ]
  },
  {
   "cell_type": "code",
   "execution_count": null,
   "id": "fd19450f-98c6-48fb-898d-14770ff3e259",
   "metadata": {},
   "outputs": [],
   "source": [
    "np.random.seed(2)\n",
    "\n",
    "# Tao 1000 diem gan voi duong thang y = 4 + 3x\n",
    "X = np.ones((X.shape[0], 1))\n",
    "y = 4 + 3 * X + .2*np.random.randn(100, 1)  # noise added\n",
    "\n",
    "# Building Xbar\n",
    "one = np.ones((X.shape[0], 1))\n",
    "Xbar = np.concatenate((one, X), axis = 1)\n",
    "\n",
    "A = np.dot"
   ]
  }
 ],
 "metadata": {
  "kernelspec": {
   "display_name": "Python 3 (ipykernel)",
   "language": "python",
   "name": "python3"
  },
  "language_info": {
   "codemirror_mode": {
    "name": "ipython",
    "version": 3
   },
   "file_extension": ".py",
   "mimetype": "text/x-python",
   "name": "python",
   "nbconvert_exporter": "python",
   "pygments_lexer": "ipython3",
   "version": "3.10.9"
  }
 },
 "nbformat": 4,
 "nbformat_minor": 5
}
